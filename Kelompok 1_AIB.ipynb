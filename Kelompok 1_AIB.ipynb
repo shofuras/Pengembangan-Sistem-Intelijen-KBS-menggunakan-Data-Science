{
 "cells": [
  {
   "cell_type": "markdown",
   "id": "bb878d65",
   "metadata": {},
   "source": [
    "#### Kelompok 1\n",
    "18218006 Rehuel Grace Marbun\n",
    "18218012 Ayutari Dian Putri\n",
    "18218035 Shofura Salma\n",
    "\n",
    "\n",
    "# PERUSAHAAN\n",
    "Dinas Perindustrian dan Perdagangan Pemerintah Jawa Barat\n",
    "\n",
    "# MASALAH\n",
    "Permasalahan utama yang diselesaikan adalah Pemerintah Jawa Barat ingin memfokuskan ekspor hanya ke beberapa jenis barang tertentu. Namun,  Pemerintah Jawa Barat belum mengetahui produk yang paling berpotensi menghasilkan nilai tertinggi.\n",
    "Selain itu, akan diprediksi juga jenis barang yang terindikasi selalu berada di bottom 5, sehingga dapat dicari tahu alasannya menjadi jenis barang ekspor terendah. Masalah tersebut dapat ditindaklanjuti untuk dicari substitusinya supaya dapat meningkatkan ekspor pada jenis barang tersebut.\n",
    "\n",
    "# METODA PENGUKURAN KEBERHASILAN PENYELESAIAN MASALAH\n",
    "Pengukuran keberhasilan penyelesaian masalah dapat dilihat setiap tahun sampai 5 tahun tahun sejak 2020. Dapat dilihat apakah prediksi jenis barang dengan nilai ekspor tertinggi benar-benar menjadi jenis barang dengan nilai ekspor tertinggi pada tahun berikutnya. Selain itu, dapat dilihat apakah prediksi jenis barang dengan nilai ekspor terendah benar-benar menjadi jenis barang dengan nilai ekspor terendah pada tahun berikutnya.\n",
    "\n",
    "# BAGAIMANA TUGAS ANALYTICS TERSEBUT BISA MENYELESAIKAN MASALAH\n",
    "Tugas data analytics ini dapat menjadi sebuah data perhitungan untuk menentukan jenis barang apa yang memiliki tingkat ekspor dengan rata-rata tertinggi selama 5 tahun yaitu dari tahun 2016-2020 yang mana untuk selanjutnya dapat dilakukan analisis terhadap data tersebut agar nantinya dapat dijadikan rekomendasi agar ditingkatkan produksinya untuk diekspor lebih banyak ke luar negeri. Selain itu, dengan data analytics ini juga dapat dilakukan perhitungan terhadap jenis barang dengan tingkat ekspor yang rendah selama 5 tahun, lalu dilakukan analisis terkait alasan rendahnya tingkat ekspor barang tersebut yang selanjutnya dapat menjadi rekomendasi apakah jenis barang tersebut akan disubtitusi dengan barang lainnya untuk diekspor atau ditingkatkan hal yang dapat ditingkatkan dari barang tersebut agar tingkat ekspor dengan jenis barang tersebut dapat meningkat.\n",
    "\n",
    "# SUMBER DAN DESKRIPSI DATA YANG DIPERLUKAN\n",
    "Sumber data yang digunakan untuk permasalahan ini adalah data nilai ekspor berdasarkan jenis barang di Provinsi Jawa Barat dari tahun 2016-2020 yang diambil dari website Open Data Jabar. Dataset terkait ekonomi ini khususnya di bidang ekspor barang/jasa, dikeluarkan oleh Dinas Perindustrian dan Perdagangan setiap satu tahun sekali. Pada dataset ini terdapat beberapa atribut sebagai berikut.\n",
    "kode_provinsi yang berisi kode Provinsi Jawa Barat sesuai ketentuan BPS merujuk pada aturan Peraturan Badan Pusat Statistik Nomor 3 Tahun 2019 dengan tipe data numerik.\n",
    "nama_provinsi yang berisi lingkup data berasal dari wilayah Provinsi Jawa Barat sesuai ketentuan BPS merujuk pada aturan Peraturan Badan Pusat Statistik Nomor 3 Tahun 2019 dengan tipe data teks.\n",
    "kode_hs yang berisi sistem klasifikasi barang perdagangan internasional (2 digit) dengan tipe data numerik.\n",
    "jenis_barang yang berisi jenis barang ekspor dengan tipe data teks.\n",
    "nilai_ekspor yang berisi nilai perdagangan barang yang diekspor dengan tipe data numerik.\n",
    "satuan yang berisi satuan dari pengukuran nilai perdagangan barang yang di ekspor dalam US Dollar dengan tipe data teks.\n",
    "tahun yang berisi tahun produksi data dengan tipe data numerik.\n",
    "\n",
    "# COST-BENEFIT ANALYSIS\n",
    "### Cost\n",
    "Sistem perlu hidup 24 jam\n",
    "Biaya yang diperlukan:\n",
    "-Server dan database\n",
    "-Jaringan internet\n",
    "-Maintenance\n",
    "### Benefit\n",
    "-Mendapatkan tren data ekspor dengan lebih jelas\n",
    "-Digunakan dalam pertimbangan pengambilan keputusan\n",
    "-Sistem saat ini memakai API yang dapat diakses secara gratis yang disediakan oleh Dinas Perindustrian dan Perdagangan Pemerintah Jawa Barat\n",
    "\n",
    "# LANGKAH PENYELESAIAN MASALAH\n",
    "-Mengumpulkan data ekspor Provinsi Jawa Barat (berupa kode barang ekspor, jenis barang ekspor, nilai barang, satuan nilai, dan tahun ekspor)\n",
    "-Melakukan proyeksi terhadap data untuk mendapatkan tren terkait data barang dan nilai ekspor tersebut. Proyeksi dilakukan terhadap jenis barang ekspor dan nilai ekspor (dalam satuan USD) yang dihasilkan per tahunnya (data dari tahun 2016-2020)\n",
    "-Setelah di proyeksi dan mendapatkan tren, dilakukan filter atau searching barang mana yang memiliki nilai ekspor tertinggi dan terendah dalam kurun waktu 2016-2020.\n",
    "-Melakukan analisis tren peningkatan maupun penurunan nilai barang pada jenis barang tertinggi dan/atau jenis barang terendah tersebut. Dari analisis ini, akan ditemukan suatu pola yang memiliki kemungkinan dapat digunakan untuk memprediksi nilai barang tersebut di masa depan yang membuatnya dapat dijadikan sebagai komoditas ekspor utama.\n",
    "-Dengan pola dari analisis tren (langkah 4), ditampilkan nilai barang dan nama barang apa yang cocok dijadikan komoditas ekspor 5 tahun mendatang.\n",
    "\n",
    "##### Github\n",
    "https://github.com/shofuras/Pengembangan-Sistem-Intelijen-KBS-menggunakan-Data-Science"
   ]
  }
 ],
 "metadata": {
  "kernelspec": {
   "display_name": "Python 3",
   "language": "python",
   "name": "python3"
  },
  "language_info": {
   "codemirror_mode": {
    "name": "ipython",
    "version": 3
   },
   "file_extension": ".py",
   "mimetype": "text/x-python",
   "name": "python",
   "nbconvert_exporter": "python",
   "pygments_lexer": "ipython3",
   "version": "3.7.3"
  }
 },
 "nbformat": 4,
 "nbformat_minor": 5
}
